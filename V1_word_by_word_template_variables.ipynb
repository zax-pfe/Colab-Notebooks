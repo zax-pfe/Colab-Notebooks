{
 "cells": [
  {
   "cell_type": "code",
   "execution_count": 1,
   "metadata": {
    "id": "FpeH-aYoa2DB"
   },
   "outputs": [],
   "source": [
    "import numpy as np\n",
    "import matplotlib.pyplot as plt\n",
    "import pandas as pd\n",
    "import tensorflow as tf\n",
    "import os\n",
    "from collections import Counter"
   ]
  },
  {
   "cell_type": "markdown",
   "metadata": {
    "id": "EYp9_VqacjWN"
   },
   "source": [
    "# Lecture des fichiers "
   ]
  },
  {
   "cell_type": "code",
   "execution_count": 2,
   "metadata": {
    "id": "vLvTyf7TbEee"
   },
   "outputs": [],
   "source": [
    "data_dir = \"GenerationTest/\""
   ]
  },
  {
   "cell_type": "code",
   "execution_count": 3,
   "metadata": {
    "id": "6FKj9y4obUDu"
   },
   "outputs": [],
   "source": [
    "list_folder = os.listdir(data_dir)\n",
    "num_folder = len(list_folder)\n",
    "number_of_folder = len(list_folder)"
   ]
  },
  {
   "cell_type": "markdown",
   "metadata": {},
   "source": [
    "# Cleaning "
   ]
  },
  {
   "cell_type": "code",
   "execution_count": 4,
   "metadata": {},
   "outputs": [],
   "source": [
    "to_delete_bdd = {'\\n'}\n",
    "def cleaning_bdd(text):\n",
    "    for char in text:\n",
    "        if char in to_delete_bdd:\n",
    "            text = text.replace(char, ' ')\n",
    "    return text "
   ]
  },
  {
   "cell_type": "markdown",
   "metadata": {
    "id": "4dzz9w1icmD8"
   },
   "source": [
    "# Creation des listes "
   ]
  },
  {
   "cell_type": "code",
   "execution_count": 5,
   "metadata": {},
   "outputs": [],
   "source": [
    "from tqdm import tqdm"
   ]
  },
  {
   "cell_type": "code",
   "execution_count": 6,
   "metadata": {
    "id": "8Gq7uxm3cybc"
   },
   "outputs": [
    {
     "name": "stderr",
     "output_type": "stream",
     "text": [
      "loading...: 100%|████████████████████████████████████████████████████████████████| 1000/1000 [00:00<00:00, 1154.30it/s]\n"
     ]
    }
   ],
   "source": [
    "bdd = []\n",
    "sbt = []\n",
    "\n",
    "for i  in tqdm (range(1000), desc=\"loading...\"):\n",
    "    path_iteration = data_dir+'/Dir_Fonction_'+str(i+1)\n",
    "    bdd_path = path_iteration+\"/BDD_Fonction_\"+str(i+1)+\".txt\"\n",
    "    stb_path = path_iteration+\"/SBT_Generation_Output/Fonction_\"+str(i+1)+\"_SBT.txt\"\n",
    "    bdd_txt = open(bdd_path,'r').read()\n",
    "    sbt_txt = open(stb_path,'r').read()\n",
    "    clean_bdd = cleaning_bdd(bdd_txt)\n",
    "    bdd.append(clean_bdd)\n",
    "    sbt.append(sbt_txt)"
   ]
  },
  {
   "cell_type": "markdown",
   "metadata": {},
   "source": [
    "# Recuperation des valeurs max de bdd et sbt"
   ]
  },
  {
   "cell_type": "code",
   "execution_count": 7,
   "metadata": {},
   "outputs": [],
   "source": [
    "def return_max_len( text ):\n",
    "    all_len = []\n",
    "    for unique_code in text:\n",
    "        code_split = unique_code.split(' ')\n",
    "        all_len.append(len(code_split))\n",
    "    return max(all_len)"
   ]
  },
  {
   "cell_type": "code",
   "execution_count": 8,
   "metadata": {},
   "outputs": [],
   "source": [
    "bdd_counter =Counter([word for sentence in bdd for word in sentence.split(' ')])\n",
    "sbt_counter =Counter([word for sentence in sbt for word in sentence.split(' ')])"
   ]
  },
  {
   "cell_type": "code",
   "execution_count": 9,
   "metadata": {},
   "outputs": [],
   "source": [
    "def return_common_words(counter):\n",
    "    common_words = []\n",
    "    for word in counter:\n",
    "        occurence = counter[word]\n",
    "        if occurence > 700:\n",
    "            common_words.append(word)\n",
    "    return common_words"
   ]
  },
  {
   "cell_type": "code",
   "execution_count": 10,
   "metadata": {},
   "outputs": [
    {
     "name": "stdout",
     "output_type": "stream",
     "text": [
      "['Feature:', 'Check', 'the', '', '#', 'result', 'to', 'True', 'Scenario:', 'Given', '=', 'and', 'When', 'i', 'call', 'Then', 'should', 'be', 'False', '<oov>']\n",
      "\n",
      "\n",
      "['', '(', 'MethodDeclaration', 'Modifier', 'public', ')', 'static', 'SimpleName', 'Parameter', 'PrimitiveType', 'int', 'boolean', 'BlockStmt', 'ExpressionStmt', 'VariableDeclarationExpr', 'VariableDeclarator', 'IntegerLiteralExpr', 'res', 'BinaryExpr', 'NameExpr', 'IfStmt', 'ReturnStmt', 'BooleanLiteralExpr', 'true', 'false', 'UnaryExpr', '<oov>', ' ']\n"
     ]
    }
   ],
   "source": [
    "common_words_bdd = return_common_words(bdd_counter)\n",
    "common_words_sbt = return_common_words(sbt_counter)\n",
    "common_words_bdd.append('<oov>')\n",
    "common_words_sbt.append('<oov>')\n",
    "#common_words_bdd.append(' ')\n",
    "common_words_sbt.append(' ')\n",
    "\n",
    "print(common_words_bdd)\n",
    "print('\\n')\n",
    "print(common_words_sbt)"
   ]
  },
  {
   "cell_type": "code",
   "execution_count": 11,
   "metadata": {},
   "outputs": [],
   "source": [
    "word_to_ind_sbt = {word : ind for ind,word in enumerate(common_words_sbt)}\n",
    "ind_to_word_sbt = {ind : word for ind,word in enumerate(common_words_sbt)}\n",
    "\n",
    "word_to_ind_bdd = {word : ind for ind,word in enumerate(common_words_bdd)}\n",
    "ind_to_word_bdd = {ind : word for ind,word in enumerate(common_words_bdd)}\n"
   ]
  },
  {
   "cell_type": "markdown",
   "metadata": {},
   "source": [
    "# Variables d'encodage"
   ]
  },
  {
   "cell_type": "code",
   "execution_count": 12,
   "metadata": {},
   "outputs": [
    {
     "name": "stdout",
     "output_type": "stream",
     "text": [
      " number of forlder : 1000\n",
      " number maximum of word in one sbt code : 255\n",
      " number maximum of word in one bdd code : 92\n",
      " number of different word in sbt : 28\n",
      " number of different word in bdd : 20\n"
     ]
    }
   ],
   "source": [
    "number_folder = len(bdd)\n",
    "max_words_sbt = return_max_len(sbt)\n",
    "max_words_bdd = return_max_len(bdd)\n",
    "number_of_words_sbt = len(common_words_sbt)\n",
    "number_of_words_bdd = len(common_words_bdd)\n",
    "\n",
    "print(' number of forlder :',number_folder)\n",
    "print(' number maximum of word in one sbt code :',max_words_sbt)\n",
    "print(' number maximum of word in one bdd code :',max_words_bdd)\n",
    "print(' number of different word in sbt :',number_of_words_sbt)\n",
    "print(' number of different word in bdd :',number_of_words_bdd)"
   ]
  },
  {
   "cell_type": "markdown",
   "metadata": {},
   "source": [
    "# Encodage du BDD, en one hot encoding"
   ]
  },
  {
   "cell_type": "code",
   "execution_count": 13,
   "metadata": {},
   "outputs": [
    {
     "data": {
      "text/plain": [
       "(1000, 92, 20)"
      ]
     },
     "execution_count": 13,
     "metadata": {},
     "output_type": "execute_result"
    }
   ],
   "source": [
    "encoded_bdd = np.zeros((number_folder,max_words_bdd,number_of_words_bdd))\n",
    "encoded_bdd.shape"
   ]
  },
  {
   "cell_type": "code",
   "execution_count": 14,
   "metadata": {},
   "outputs": [],
   "source": [
    "variables_bdd = []\n",
    "for i,sentence in  enumerate(bdd):\n",
    "    bdd_split = sentence.split( ' ')\n",
    "    for j,word in enumerate (bdd_split):\n",
    "        if word in common_words_bdd:\n",
    "            encoded_bdd[i,j,word_to_ind_bdd[word]] = 1.\n",
    "        else:\n",
    "            variables_bdd.append(word)\n",
    "            encoded_bdd[i,j,word_to_ind_bdd['<oov>']] = 1."
   ]
  },
  {
   "cell_type": "markdown",
   "metadata": {},
   "source": [
    "# Encodage des variables en onehot"
   ]
  },
  {
   "cell_type": "markdown",
   "metadata": {},
   "source": [
    "Recuperation taille max des variables "
   ]
  },
  {
   "cell_type": "code",
   "execution_count": 15,
   "metadata": {},
   "outputs": [
    {
     "data": {
      "text/plain": [
       "19"
      ]
     },
     "execution_count": 15,
     "metadata": {},
     "output_type": "execute_result"
    }
   ],
   "source": [
    "max_len_variable_bdd = max([len(x) for x in variables_bdd])\n",
    "max_len_variable_bdd"
   ]
  },
  {
   "cell_type": "markdown",
   "metadata": {},
   "source": [
    "Creation d'un vocabulaire pour les variables "
   ]
  },
  {
   "cell_type": "code",
   "execution_count": 76,
   "metadata": {},
   "outputs": [],
   "source": [
    "vocab_variables_bdd = {l for char in variables_bdd for l in char}\n",
    "vocab_variables_bdd.add('<void>')"
   ]
  },
  {
   "cell_type": "code",
   "execution_count": 78,
   "metadata": {},
   "outputs": [],
   "source": [
    "char_to_ind_bdd = {char : ind for ind,char in enumerate(vocab_variables_bdd)}\n",
    "ind_to_char_bdd = {ind : char for ind,char in enumerate(vocab_variables_bdd)}"
   ]
  },
  {
   "cell_type": "markdown",
   "metadata": {},
   "source": [
    "Nombre de caractere differents dans le vocabulaire des variables "
   ]
  },
  {
   "cell_type": "code",
   "execution_count": 79,
   "metadata": {},
   "outputs": [
    {
     "name": "stdout",
     "output_type": "stream",
     "text": [
      "40\n"
     ]
    }
   ],
   "source": [
    "number_char_variables_bdd = len(vocab_variables_bdd)\n",
    "print(number_char_variables_bdd)"
   ]
  },
  {
   "cell_type": "markdown",
   "metadata": {},
   "source": [
    "nombre de variables par fichier bdd"
   ]
  },
  {
   "cell_type": "code",
   "execution_count": 80,
   "metadata": {},
   "outputs": [],
   "source": [
    "number_variables_bdd = 13"
   ]
  },
  {
   "cell_type": "code",
   "execution_count": 81,
   "metadata": {},
   "outputs": [
    {
     "data": {
      "text/plain": [
       "(1000, 13, 19, 40)"
      ]
     },
     "execution_count": 81,
     "metadata": {},
     "output_type": "execute_result"
    }
   ],
   "source": [
    "encoded_variables_bdd = np.zeros((number_folder,number_variables_bdd, max_len_variable_bdd, number_char_variables_bdd))\n",
    "encoded_variables_bdd.shape"
   ]
  },
  {
   "cell_type": "markdown",
   "metadata": {},
   "source": [
    "Encodage des variables"
   ]
  },
  {
   "cell_type": "code",
   "execution_count": 182,
   "metadata": {},
   "outputs": [],
   "source": [
    "for i,sentence in  enumerate(bdd):\n",
    "    bdd_split = sentence.split( ' ')\n",
    "    x = 0 # compteur qui calcule le nombre de mots hors du vocab rencontrés \n",
    "\n",
    "    for j,word in enumerate (bdd_split):\n",
    "        if word not in common_words_bdd:\n",
    "            for h,char in enumerate ( word ):\n",
    "                encoded_variables_bdd[i,x,h,char_to_ind_bdd[char]] = 1.\n",
    "            x=x+1"
   ]
  },
  {
   "cell_type": "code",
   "execution_count": 183,
   "metadata": {},
   "outputs": [],
   "source": [
    "encoded_variables_bdd_2d = np.reshape(encoded_variables_bdd,\n",
    "                        (number_folder, number_variables_bdd*max_len_variable_bdd,number_char_variables_bdd))"
   ]
  },
  {
   "cell_type": "code",
   "execution_count": 184,
   "metadata": {},
   "outputs": [
    {
     "data": {
      "text/plain": [
       "(1000, 247, 40)"
      ]
     },
     "execution_count": 184,
     "metadata": {},
     "output_type": "execute_result"
    }
   ],
   "source": [
    "encoded_variables_bdd_2d.shape"
   ]
  },
  {
   "cell_type": "code",
   "execution_count": 129,
   "metadata": {},
   "outputs": [
    {
     "data": {
      "text/plain": [
       "array([0., 0., 0., 0., 0., 0., 0., 0., 0., 0., 0., 1., 0., 0., 0., 0., 0.,\n",
       "       0., 0., 0., 0., 0., 0., 0., 0., 0., 0., 0., 0., 0., 0., 0., 0., 0.,\n",
       "       0., 0., 0., 0., 0., 0.])"
      ]
     },
     "execution_count": 129,
     "metadata": {},
     "output_type": "execute_result"
    }
   ],
   "source": [
    "encoded_variables_bdd_2d[0][0]"
   ]
  },
  {
   "cell_type": "markdown",
   "metadata": {},
   "source": [
    "# Decodage des variables en onehot"
   ]
  },
  {
   "cell_type": "code",
   "execution_count": 89,
   "metadata": {},
   "outputs": [],
   "source": [
    "def decode_var_bdd ( encoded_variables):\n",
    "    decoded_variables = []\n",
    "    encoded_variables_test = encoded_variables\n",
    "    for variables in encoded_variables_test:\n",
    "        for chars in variables:\n",
    "            for i,char in enumerate (chars):\n",
    "                if char == 1:\n",
    "                    decoded_variables.append(ind_to_char_bdd[i])\n",
    "        decoded_variables.append('--')\n",
    "    decoded_sequence = ''.join(decoded_variables)\n",
    "    return decoded_sequence"
   ]
  },
  {
   "cell_type": "code",
   "execution_count": 90,
   "metadata": {},
   "outputs": [
    {
     "data": {
      "text/plain": [
       "'Fonction_1--bdd_Fonction_1_1--z---6--e--11--Fonction_1--bdd_Fonction_1_2--z--3--e--3--Fonction_1--'"
      ]
     },
     "execution_count": 90,
     "metadata": {},
     "output_type": "execute_result"
    }
   ],
   "source": [
    "test_decode = decode_var_bdd(encoded_variables_bdd[0])\n",
    "test_decode"
   ]
  },
  {
   "cell_type": "markdown",
   "metadata": {},
   "source": [
    "# Encodage des variables sparse"
   ]
  },
  {
   "cell_type": "code",
   "execution_count": 130,
   "metadata": {},
   "outputs": [
    {
     "data": {
      "text/plain": [
       "(1000, 13, 19)"
      ]
     },
     "execution_count": 130,
     "metadata": {},
     "output_type": "execute_result"
    }
   ],
   "source": [
    "encoded_variables_bdd_sparse = np.full((number_folder,number_variables_bdd, max_len_variable_bdd),char_to_ind_bdd['<void>'])\n",
    "encoded_variables_bdd_sparse.shape"
   ]
  },
  {
   "cell_type": "code",
   "execution_count": 134,
   "metadata": {},
   "outputs": [],
   "source": [
    "for i,sentence in enumerate(bdd):\n",
    "    bdd_split = sentence.split(' ')\n",
    "    x=0\n",
    "    for j,word in enumerate (bdd_split):\n",
    "        if word not in common_words_bdd:\n",
    "            for h,char in enumerate(word):\n",
    "                encoded_variables_bdd_sparse[i,x,h]=char_to_ind_bdd[char]\n",
    "            x=x+1"
   ]
  },
  {
   "cell_type": "markdown",
   "metadata": {},
   "source": [
    "# Decodage des variables sparse "
   ]
  },
  {
   "cell_type": "code",
   "execution_count": 139,
   "metadata": {},
   "outputs": [],
   "source": [
    "def decode_var_bdd_sparse( encoded_var_bdd_sparse):\n",
    "    decoded_var_bdd_sparse = []\n",
    "    for i,chars in enumerate ( encoded_var_bdd_sparse):\n",
    "        for char in chars:\n",
    "            if char == char_to_ind_bdd['<void>']:\n",
    "                break\n",
    "            else :\n",
    "                decoded_var_bdd_sparse.append(ind_to_char_bdd[char])\n",
    "        decoded_var_bdd_sparse.append('--') \n",
    "    decoded_var_bdd_sparse = ''.join(decoded_var_bdd_sparse)\n",
    "    return decoded_var_bdd_sparse"
   ]
  },
  {
   "cell_type": "code",
   "execution_count": 140,
   "metadata": {},
   "outputs": [
    {
     "data": {
      "text/plain": [
       "'Fonction_1--bdd_Fonction_1_1--z---6--e--11--Fonction_1--bdd_Fonction_1_2--z--3--e--3--Fonction_1--'"
      ]
     },
     "execution_count": 140,
     "metadata": {},
     "output_type": "execute_result"
    }
   ],
   "source": [
    "decode_var_bdd_sparse(encoded_variables_bdd_sparse[0])"
   ]
  },
  {
   "cell_type": "markdown",
   "metadata": {},
   "source": [
    "# Decodage du BDD"
   ]
  },
  {
   "cell_type": "code",
   "execution_count": 97,
   "metadata": {},
   "outputs": [],
   "source": [
    "def decode_bdd(encoded):\n",
    "    decoded_sequence_bdd = []\n",
    "    for i,words in enumerate(encoded):\n",
    "        \n",
    "        for j,word in enumerate(words):\n",
    "            \n",
    "            if (word==1):\n",
    "                decoded_sequence_bdd.append(ind_to_word_bdd[j])\n",
    "                decoded_sequence_bdd.append(' ')\n",
    "        \n",
    "    decoded_sequence_bdd = ''.join(decoded_sequence_bdd)\n",
    "    return decoded_sequence_bdd"
   ]
  },
  {
   "cell_type": "code",
   "execution_count": 98,
   "metadata": {},
   "outputs": [
    {
     "data": {
      "text/plain": [
       "'Feature: Check the <oov>     # Check the result to True   Scenario: <oov>     Given <oov> = <oov> and <oov> = <oov>     When i call <oov>     Then the result should be True    # Check the result to False   Scenario: <oov>     Given <oov> = <oov> and <oov> = <oov>     When i call <oov>     Then the result should be False  '"
      ]
     },
     "execution_count": 98,
     "metadata": {},
     "output_type": "execute_result"
    }
   ],
   "source": [
    "decod = decode_bdd(encoded_bdd[0])\n",
    "decod"
   ]
  },
  {
   "cell_type": "markdown",
   "metadata": {},
   "source": [
    "# ---------------------------------------------------------------------------------------------------------------\n",
    "# Encodage du SBT"
   ]
  },
  {
   "cell_type": "code",
   "execution_count": 99,
   "metadata": {},
   "outputs": [],
   "source": [
    "encoded_sbt = np.full((number_folder,max_words_sbt), word_to_ind_sbt[' '])"
   ]
  },
  {
   "cell_type": "code",
   "execution_count": 100,
   "metadata": {
    "scrolled": true
   },
   "outputs": [],
   "source": [
    "variables_sbt = []\n",
    "for i,sentence in enumerate(sbt):\n",
    "    sbt_split = sentence.split(' ')\n",
    "    for j,word in enumerate (sbt_split):\n",
    "        if word in common_words_sbt:\n",
    "            encoded_sbt[i,j]=word_to_ind_sbt[word]\n",
    "        else :\n",
    "            variables_sbt.append(word)\n",
    "            encoded_sbt[i,j]=word_to_ind_sbt['<oov>']"
   ]
  },
  {
   "cell_type": "markdown",
   "metadata": {},
   "source": [
    "# Encodage des variables "
   ]
  },
  {
   "cell_type": "markdown",
   "metadata": {},
   "source": [
    "Test envisageable : normaliser toutes les valeurs pour qu'elles soient comprises entre 0 et 1 "
   ]
  },
  {
   "cell_type": "code",
   "execution_count": 107,
   "metadata": {},
   "outputs": [],
   "source": [
    "number_variables_sbt = 22"
   ]
  },
  {
   "cell_type": "code",
   "execution_count": 108,
   "metadata": {},
   "outputs": [
    {
     "data": {
      "text/plain": [
       "13"
      ]
     },
     "execution_count": 108,
     "metadata": {},
     "output_type": "execute_result"
    }
   ],
   "source": [
    "max_len_variable_sbt = max([len(x) for x in variables_sbt])\n",
    "max_len_variable_sbt"
   ]
  },
  {
   "cell_type": "code",
   "execution_count": 114,
   "metadata": {},
   "outputs": [],
   "source": [
    "vocab_variables_sbt = {l for char in variables_bdd for l in char}\n",
    "vocab_variables_sbt.add('<void>')"
   ]
  },
  {
   "cell_type": "code",
   "execution_count": 115,
   "metadata": {},
   "outputs": [],
   "source": [
    "char_to_ind_sbt = {char : ind for ind,char in enumerate(vocab_variables_sbt)}\n",
    "ind_to_char_sbt = {ind : char for ind,char in enumerate(vocab_variables_sbt)}"
   ]
  },
  {
   "cell_type": "code",
   "execution_count": 119,
   "metadata": {},
   "outputs": [
    {
     "data": {
      "text/plain": [
       "40"
      ]
     },
     "execution_count": 119,
     "metadata": {},
     "output_type": "execute_result"
    }
   ],
   "source": [
    "number_char_sbt = len(vocab_variables_sbt)\n",
    "number_char_sbt"
   ]
  },
  {
   "cell_type": "code",
   "execution_count": 120,
   "metadata": {},
   "outputs": [
    {
     "data": {
      "text/plain": [
       "(1000, 22, 13)"
      ]
     },
     "execution_count": 120,
     "metadata": {},
     "output_type": "execute_result"
    }
   ],
   "source": [
    "encoded_variables_sbt = np.full((number_folder,number_variables_sbt, max_len_variable_sbt),char_to_ind_sbt['<void>'])\n",
    "encoded_variables_sbt.shape"
   ]
  },
  {
   "cell_type": "code",
   "execution_count": 121,
   "metadata": {},
   "outputs": [],
   "source": [
    "for i,sentence in enumerate(sbt):\n",
    "    sbt_split = sentence.split(' ')\n",
    "    x=0\n",
    "    for j,word in enumerate (sbt_split):\n",
    "        if word not in common_words_sbt:\n",
    "            for h,char in enumerate(word):\n",
    "                encoded_variables_sbt[i,x,h]=char_to_ind_sbt[char]\n",
    "            x=x+1"
   ]
  },
  {
   "cell_type": "markdown",
   "metadata": {},
   "source": [
    "# Encodage en 2d"
   ]
  },
  {
   "cell_type": "code",
   "execution_count": 153,
   "metadata": {},
   "outputs": [
    {
     "data": {
      "text/plain": [
       "(1000, 286)"
      ]
     },
     "execution_count": 153,
     "metadata": {},
     "output_type": "execute_result"
    }
   ],
   "source": [
    "encoded_variables_sbt_2d = np.full((number_folder,number_variables_sbt* max_len_variable_sbt),char_to_ind_sbt['<void>'])\n",
    "encoded_variables_sbt_2d.shape"
   ]
  },
  {
   "cell_type": "code",
   "execution_count": 154,
   "metadata": {},
   "outputs": [],
   "source": [
    "for i,sentence in enumerate(sbt):\n",
    "    sbt_split = sentence.split(' ')\n",
    "    x=0\n",
    "    for j,word in enumerate (sbt_split):\n",
    "        if word not in common_words_sbt:\n",
    "            for h,char in enumerate(word):\n",
    "                encoded_variables_sbt_2d[i,x*13+h]=char_to_ind_sbt[char]\n",
    "            x=x+1"
   ]
  },
  {
   "cell_type": "code",
   "execution_count": 155,
   "metadata": {},
   "outputs": [
    {
     "name": "stdout",
     "output_type": "stream",
     "text": [
      "(1000, 22, 13)\n",
      "(1000, 286)\n"
     ]
    }
   ],
   "source": [
    "encoded_variables_sbt_2d_reshaped= np.reshape(encoded_variables_sbt_2d,\n",
    "                                              (number_folder,number_variables_sbt,max_len_variable_sbt))\n",
    "print(encoded_variables_sbt_2d_reshaped.shape)\n",
    "print(encoded_variables_sbt_2d.shape)"
   ]
  },
  {
   "cell_type": "markdown",
   "metadata": {},
   "source": [
    "# Decodage des variables "
   ]
  },
  {
   "cell_type": "code",
   "execution_count": 159,
   "metadata": {},
   "outputs": [],
   "source": [
    "def decode_var_sbt( encoded_var_sbt):\n",
    "    decoded_var_sbt = []\n",
    "    x=0\n",
    "    for i,chars in enumerate ( encoded_var_sbt):\n",
    "        for char in chars:\n",
    "            if char == char_to_ind_sbt['<void>']:\n",
    "                x=x+1\n",
    "                break\n",
    "            else :\n",
    "                decoded_var_sbt.append(ind_to_char_sbt[char])\n",
    "        decoded_var_sbt.append('--') \n",
    "    decoded_var_sbt = ''.join(decoded_var_sbt)\n",
    "    return decoded_var_sbt"
   ]
  },
  {
   "cell_type": "code",
   "execution_count": 160,
   "metadata": {},
   "outputs": [
    {
     "data": {
      "text/plain": [
       "'Fonction_1--Fonction_1--z--z--e--e--s--s--6--6--c--c--0--0--z--z--e--e--s--s--c--c--'"
      ]
     },
     "execution_count": 160,
     "metadata": {},
     "output_type": "execute_result"
    }
   ],
   "source": [
    "decode_var_sbt(encoded_variables_sbt[0])"
   ]
  },
  {
   "cell_type": "code",
   "execution_count": 164,
   "metadata": {},
   "outputs": [
    {
     "data": {
      "text/plain": [
       "'Fonction_1--Fonction_1--z--z--e--e--s--s--6--6--c--c--0--0--z--z--e--e--s--s--c--c--'"
      ]
     },
     "execution_count": 164,
     "metadata": {},
     "output_type": "execute_result"
    }
   ],
   "source": [
    "decode_var_sbt(encoded_variables_sbt_2d_reshaped[0])"
   ]
  },
  {
   "cell_type": "markdown",
   "metadata": {},
   "source": [
    "# Decodage SBT"
   ]
  },
  {
   "cell_type": "code",
   "execution_count": 165,
   "metadata": {},
   "outputs": [],
   "source": [
    "def decode_sbt(encoded):\n",
    "    decoded = []\n",
    "    for word in encoded:\n",
    "        decoded.append(ind_to_word_sbt[word])\n",
    "        decoded.append(' ')\n",
    "        \n",
    "    decoded = ''.join(decoded)\n",
    "    return decoded\n"
   ]
  },
  {
   "cell_type": "markdown",
   "metadata": {},
   "source": [
    "# Repartition test train"
   ]
  },
  {
   "cell_type": "code",
   "execution_count": 166,
   "metadata": {},
   "outputs": [],
   "source": [
    "from sklearn.model_selection import train_test_split"
   ]
  },
  {
   "cell_type": "markdown",
   "metadata": {},
   "source": [
    "# Template"
   ]
  },
  {
   "cell_type": "code",
   "execution_count": 167,
   "metadata": {},
   "outputs": [
    {
     "name": "stdout",
     "output_type": "stream",
     "text": [
      "(900, 255)\n",
      "(100, 255)\n",
      "(900, 92, 20)\n",
      "(100, 92, 20)\n"
     ]
    }
   ],
   "source": [
    "X_train, X_test, y_train, y_test = train_test_split( encoded_sbt, encoded_bdd, test_size=0.1, random_state=42)\n",
    "print(X_train.shape)\n",
    "print(X_test.shape)\n",
    "print(y_train.shape)\n",
    "print(y_test.shape)"
   ]
  },
  {
   "cell_type": "markdown",
   "metadata": {},
   "source": [
    "# Variables "
   ]
  },
  {
   "cell_type": "code",
   "execution_count": 203,
   "metadata": {},
   "outputs": [],
   "source": [
    "X_var_train, X_var_test, y_var_train, y_var_test = train_test_split( encoded_variables_sbt_2d,\n",
    "                                                                    encoded_variables_bdd_sparse,\n",
    "                                                                    test_size=0.1, random_state=42)"
   ]
  },
  {
   "cell_type": "code",
   "execution_count": 204,
   "metadata": {},
   "outputs": [
    {
     "data": {
      "text/plain": [
       "(1000, 13, 19)"
      ]
     },
     "execution_count": 204,
     "metadata": {},
     "output_type": "execute_result"
    }
   ],
   "source": [
    "encoded_variables_bdd_sparse.shape"
   ]
  },
  {
   "cell_type": "code",
   "execution_count": 205,
   "metadata": {},
   "outputs": [
    {
     "data": {
      "text/plain": [
       "(1000, 286)"
      ]
     },
     "execution_count": 205,
     "metadata": {},
     "output_type": "execute_result"
    }
   ],
   "source": [
    "encoded_variables_sbt_2d.shape"
   ]
  },
  {
   "cell_type": "code",
   "execution_count": 206,
   "metadata": {},
   "outputs": [
    {
     "name": "stdout",
     "output_type": "stream",
     "text": [
      "(900, 286)\n",
      "(900, 13, 19)\n",
      "(100, 286)\n",
      "(100, 13, 19)\n"
     ]
    }
   ],
   "source": [
    "print(X_var_train.shape)\n",
    "print(y_var_train.shape)\n",
    "print(X_var_test.shape)\n",
    "print(y_var_test.shape)"
   ]
  },
  {
   "cell_type": "markdown",
   "metadata": {
    "id": "jBdXYLKlmp-o"
   },
   "source": [
    "# Creation du Modele"
   ]
  },
  {
   "cell_type": "code",
   "execution_count": 197,
   "metadata": {
    "id": "rddjf4IBmNW3"
   },
   "outputs": [],
   "source": [
    "from tensorflow.keras.models import Sequential\n",
    "from tensorflow.keras.layers import Dense, GRU, Dropout, TimeDistributed, LSTM, Bidirectional, Embedding, RepeatVector\n",
    "from tensorflow.keras.losses import sparse_categorical_crossentropy"
   ]
  },
  {
   "cell_type": "markdown",
   "metadata": {},
   "source": [
    "# Template Model"
   ]
  },
  {
   "cell_type": "code",
   "execution_count": 198,
   "metadata": {},
   "outputs": [],
   "source": [
    "model = Sequential()\n",
    "model.add(Embedding(number_of_words_sbt, 256, input_length=max_words_sbt, mask_zero=True))\n",
    "model.add(LSTM(256))\n",
    "model.add(RepeatVector(max_words_bdd))\n",
    "model.add(LSTM(256, return_sequences=True))\n",
    "model.add(TimeDistributed(Dense(number_of_words_bdd, activation='softmax')))\n",
    "\n",
    "model.compile(optimizer='adam', loss='categorical_crossentropy', metrics=['accuracy'])"
   ]
  },
  {
   "cell_type": "code",
   "execution_count": 199,
   "metadata": {
    "colab": {
     "base_uri": "https://localhost:8080/"
    },
    "id": "fPuUuzGxqm6K",
    "outputId": "85ff98e1-73a5-45e1-d3bd-13a58827d48f"
   },
   "outputs": [
    {
     "name": "stdout",
     "output_type": "stream",
     "text": [
      "Model: \"sequential_10\"\n",
      "_________________________________________________________________\n",
      "Layer (type)                 Output Shape              Param #   \n",
      "=================================================================\n",
      "embedding_10 (Embedding)     (None, 255, 256)          7168      \n",
      "_________________________________________________________________\n",
      "lstm_20 (LSTM)               (None, 256)               525312    \n",
      "_________________________________________________________________\n",
      "repeat_vector_10 (RepeatVect (None, 92, 256)           0         \n",
      "_________________________________________________________________\n",
      "lstm_21 (LSTM)               (None, 92, 256)           525312    \n",
      "_________________________________________________________________\n",
      "time_distributed_10 (TimeDis (None, 92, 20)            5140      \n",
      "=================================================================\n",
      "Total params: 1,062,932\n",
      "Trainable params: 1,062,932\n",
      "Non-trainable params: 0\n",
      "_________________________________________________________________\n"
     ]
    }
   ],
   "source": [
    "model.summary()"
   ]
  },
  {
   "cell_type": "markdown",
   "metadata": {},
   "source": [
    "# Variables Model"
   ]
  },
  {
   "cell_type": "code",
   "execution_count": 207,
   "metadata": {},
   "outputs": [],
   "source": [
    "model_var = Sequential()\n",
    "model_var.add(Embedding(number_char_sbt, 256, input_length=number_variables_sbt* max_len_variable_sbt, mask_zero=True))\n",
    "model_var.add(LSTM(256))\n",
    "model_var.add(RepeatVector(13))\n",
    "model_var.add(LSTM(256, return_sequences=True))\n",
    "model_var.add(TimeDistributed(Dense(19, activation='softmax')))\n",
    "\n",
    "model_var.compile(optimizer='adam', loss='categorical_crossentropy', metrics=['accuracy'])"
   ]
  },
  {
   "cell_type": "code",
   "execution_count": 201,
   "metadata": {},
   "outputs": [
    {
     "name": "stdout",
     "output_type": "stream",
     "text": [
      "Model: \"sequential_11\"\n",
      "_________________________________________________________________\n",
      "Layer (type)                 Output Shape              Param #   \n",
      "=================================================================\n",
      "embedding_11 (Embedding)     (None, 286, 256)          10240     \n",
      "_________________________________________________________________\n",
      "lstm_22 (LSTM)               (None, 256)               525312    \n",
      "_________________________________________________________________\n",
      "repeat_vector_11 (RepeatVect (None, 247, 256)          0         \n",
      "_________________________________________________________________\n",
      "lstm_23 (LSTM)               (None, 247, 256)          525312    \n",
      "_________________________________________________________________\n",
      "time_distributed_11 (TimeDis (None, 247, 40)           10280     \n",
      "=================================================================\n",
      "Total params: 1,071,144\n",
      "Trainable params: 1,071,144\n",
      "Non-trainable params: 0\n",
      "_________________________________________________________________\n"
     ]
    }
   ],
   "source": [
    "model_var.summary()"
   ]
  },
  {
   "cell_type": "code",
   "execution_count": 202,
   "metadata": {
    "colab": {
     "base_uri": "https://localhost:8080/"
    },
    "id": "Ss9owd-Gm9SN",
    "outputId": "7ee6fe0e-c2aa-4b6a-bcee-3aa8ab1fef81"
   },
   "outputs": [
    {
     "name": "stdout",
     "output_type": "stream",
     "text": [
      "Epoch 1/10\n"
     ]
    },
    {
     "ename": "InvalidArgumentError",
     "evalue": " logits and labels must have the same first dimension, got logits shape [3952,40] and labels shape [158080]\n\t [[node sparse_categorical_crossentropy/SparseSoftmaxCrossEntropyWithLogits/SparseSoftmaxCrossEntropyWithLogits (defined at <ipython-input-202-fc3c5f83dba9>:1) ]] [Op:__inference_train_function_72335]\n\nFunction call stack:\ntrain_function\n",
     "output_type": "error",
     "traceback": [
      "\u001b[1;31m---------------------------------------------------------------------------\u001b[0m",
      "\u001b[1;31mInvalidArgumentError\u001b[0m                      Traceback (most recent call last)",
      "\u001b[1;32m<ipython-input-202-fc3c5f83dba9>\u001b[0m in \u001b[0;36m<module>\u001b[1;34m\u001b[0m\n\u001b[1;32m----> 1\u001b[1;33m \u001b[0mmodel_var\u001b[0m\u001b[1;33m.\u001b[0m\u001b[0mfit\u001b[0m\u001b[1;33m(\u001b[0m\u001b[0mX_var_train\u001b[0m\u001b[1;33m,\u001b[0m \u001b[0my_var_train\u001b[0m \u001b[1;33m,\u001b[0m\u001b[0mbatch_size\u001b[0m \u001b[1;33m=\u001b[0m \u001b[1;36m16\u001b[0m\u001b[1;33m,\u001b[0m \u001b[0mepochs\u001b[0m\u001b[1;33m=\u001b[0m\u001b[1;36m10\u001b[0m\u001b[1;33m,\u001b[0m \u001b[0mvalidation_data\u001b[0m \u001b[1;33m=\u001b[0m \u001b[1;33m(\u001b[0m\u001b[0mX_var_test\u001b[0m\u001b[1;33m,\u001b[0m \u001b[0my_var_test\u001b[0m\u001b[1;33m)\u001b[0m\u001b[1;33m)\u001b[0m\u001b[1;33m\u001b[0m\u001b[1;33m\u001b[0m\u001b[0m\n\u001b[0m",
      "\u001b[1;32m~\\AppData\\Roaming\\Python\\Python38\\site-packages\\tensorflow\\python\\keras\\engine\\training.py\u001b[0m in \u001b[0;36mfit\u001b[1;34m(self, x, y, batch_size, epochs, verbose, callbacks, validation_split, validation_data, shuffle, class_weight, sample_weight, initial_epoch, steps_per_epoch, validation_steps, validation_batch_size, validation_freq, max_queue_size, workers, use_multiprocessing)\u001b[0m\n\u001b[0;32m   1098\u001b[0m                 _r=1):\n\u001b[0;32m   1099\u001b[0m               \u001b[0mcallbacks\u001b[0m\u001b[1;33m.\u001b[0m\u001b[0mon_train_batch_begin\u001b[0m\u001b[1;33m(\u001b[0m\u001b[0mstep\u001b[0m\u001b[1;33m)\u001b[0m\u001b[1;33m\u001b[0m\u001b[1;33m\u001b[0m\u001b[0m\n\u001b[1;32m-> 1100\u001b[1;33m               \u001b[0mtmp_logs\u001b[0m \u001b[1;33m=\u001b[0m \u001b[0mself\u001b[0m\u001b[1;33m.\u001b[0m\u001b[0mtrain_function\u001b[0m\u001b[1;33m(\u001b[0m\u001b[0miterator\u001b[0m\u001b[1;33m)\u001b[0m\u001b[1;33m\u001b[0m\u001b[1;33m\u001b[0m\u001b[0m\n\u001b[0m\u001b[0;32m   1101\u001b[0m               \u001b[1;32mif\u001b[0m \u001b[0mdata_handler\u001b[0m\u001b[1;33m.\u001b[0m\u001b[0mshould_sync\u001b[0m\u001b[1;33m:\u001b[0m\u001b[1;33m\u001b[0m\u001b[1;33m\u001b[0m\u001b[0m\n\u001b[0;32m   1102\u001b[0m                 \u001b[0mcontext\u001b[0m\u001b[1;33m.\u001b[0m\u001b[0masync_wait\u001b[0m\u001b[1;33m(\u001b[0m\u001b[1;33m)\u001b[0m\u001b[1;33m\u001b[0m\u001b[1;33m\u001b[0m\u001b[0m\n",
      "\u001b[1;32m~\\AppData\\Roaming\\Python\\Python38\\site-packages\\tensorflow\\python\\eager\\def_function.py\u001b[0m in \u001b[0;36m__call__\u001b[1;34m(self, *args, **kwds)\u001b[0m\n\u001b[0;32m    826\u001b[0m     \u001b[0mtracing_count\u001b[0m \u001b[1;33m=\u001b[0m \u001b[0mself\u001b[0m\u001b[1;33m.\u001b[0m\u001b[0mexperimental_get_tracing_count\u001b[0m\u001b[1;33m(\u001b[0m\u001b[1;33m)\u001b[0m\u001b[1;33m\u001b[0m\u001b[1;33m\u001b[0m\u001b[0m\n\u001b[0;32m    827\u001b[0m     \u001b[1;32mwith\u001b[0m \u001b[0mtrace\u001b[0m\u001b[1;33m.\u001b[0m\u001b[0mTrace\u001b[0m\u001b[1;33m(\u001b[0m\u001b[0mself\u001b[0m\u001b[1;33m.\u001b[0m\u001b[0m_name\u001b[0m\u001b[1;33m)\u001b[0m \u001b[1;32mas\u001b[0m \u001b[0mtm\u001b[0m\u001b[1;33m:\u001b[0m\u001b[1;33m\u001b[0m\u001b[1;33m\u001b[0m\u001b[0m\n\u001b[1;32m--> 828\u001b[1;33m       \u001b[0mresult\u001b[0m \u001b[1;33m=\u001b[0m \u001b[0mself\u001b[0m\u001b[1;33m.\u001b[0m\u001b[0m_call\u001b[0m\u001b[1;33m(\u001b[0m\u001b[1;33m*\u001b[0m\u001b[0margs\u001b[0m\u001b[1;33m,\u001b[0m \u001b[1;33m**\u001b[0m\u001b[0mkwds\u001b[0m\u001b[1;33m)\u001b[0m\u001b[1;33m\u001b[0m\u001b[1;33m\u001b[0m\u001b[0m\n\u001b[0m\u001b[0;32m    829\u001b[0m       \u001b[0mcompiler\u001b[0m \u001b[1;33m=\u001b[0m \u001b[1;34m\"xla\"\u001b[0m \u001b[1;32mif\u001b[0m \u001b[0mself\u001b[0m\u001b[1;33m.\u001b[0m\u001b[0m_experimental_compile\u001b[0m \u001b[1;32melse\u001b[0m \u001b[1;34m\"nonXla\"\u001b[0m\u001b[1;33m\u001b[0m\u001b[1;33m\u001b[0m\u001b[0m\n\u001b[0;32m    830\u001b[0m       \u001b[0mnew_tracing_count\u001b[0m \u001b[1;33m=\u001b[0m \u001b[0mself\u001b[0m\u001b[1;33m.\u001b[0m\u001b[0mexperimental_get_tracing_count\u001b[0m\u001b[1;33m(\u001b[0m\u001b[1;33m)\u001b[0m\u001b[1;33m\u001b[0m\u001b[1;33m\u001b[0m\u001b[0m\n",
      "\u001b[1;32m~\\AppData\\Roaming\\Python\\Python38\\site-packages\\tensorflow\\python\\eager\\def_function.py\u001b[0m in \u001b[0;36m_call\u001b[1;34m(self, *args, **kwds)\u001b[0m\n\u001b[0;32m    886\u001b[0m         \u001b[1;31m# Lifting succeeded, so variables are initialized and we can run the\u001b[0m\u001b[1;33m\u001b[0m\u001b[1;33m\u001b[0m\u001b[1;33m\u001b[0m\u001b[0m\n\u001b[0;32m    887\u001b[0m         \u001b[1;31m# stateless function.\u001b[0m\u001b[1;33m\u001b[0m\u001b[1;33m\u001b[0m\u001b[1;33m\u001b[0m\u001b[0m\n\u001b[1;32m--> 888\u001b[1;33m         \u001b[1;32mreturn\u001b[0m \u001b[0mself\u001b[0m\u001b[1;33m.\u001b[0m\u001b[0m_stateless_fn\u001b[0m\u001b[1;33m(\u001b[0m\u001b[1;33m*\u001b[0m\u001b[0margs\u001b[0m\u001b[1;33m,\u001b[0m \u001b[1;33m**\u001b[0m\u001b[0mkwds\u001b[0m\u001b[1;33m)\u001b[0m\u001b[1;33m\u001b[0m\u001b[1;33m\u001b[0m\u001b[0m\n\u001b[0m\u001b[0;32m    889\u001b[0m     \u001b[1;32melse\u001b[0m\u001b[1;33m:\u001b[0m\u001b[1;33m\u001b[0m\u001b[1;33m\u001b[0m\u001b[0m\n\u001b[0;32m    890\u001b[0m       \u001b[0m_\u001b[0m\u001b[1;33m,\u001b[0m \u001b[0m_\u001b[0m\u001b[1;33m,\u001b[0m \u001b[0m_\u001b[0m\u001b[1;33m,\u001b[0m \u001b[0mfiltered_flat_args\u001b[0m \u001b[1;33m=\u001b[0m\u001b[0;31m \u001b[0m\u001b[0;31m\\\u001b[0m\u001b[1;33m\u001b[0m\u001b[1;33m\u001b[0m\u001b[0m\n",
      "\u001b[1;32m~\\AppData\\Roaming\\Python\\Python38\\site-packages\\tensorflow\\python\\eager\\function.py\u001b[0m in \u001b[0;36m__call__\u001b[1;34m(self, *args, **kwargs)\u001b[0m\n\u001b[0;32m   2940\u001b[0m       (graph_function,\n\u001b[0;32m   2941\u001b[0m        filtered_flat_args) = self._maybe_define_function(args, kwargs)\n\u001b[1;32m-> 2942\u001b[1;33m     return graph_function._call_flat(\n\u001b[0m\u001b[0;32m   2943\u001b[0m         filtered_flat_args, captured_inputs=graph_function.captured_inputs)  # pylint: disable=protected-access\n\u001b[0;32m   2944\u001b[0m \u001b[1;33m\u001b[0m\u001b[0m\n",
      "\u001b[1;32m~\\AppData\\Roaming\\Python\\Python38\\site-packages\\tensorflow\\python\\eager\\function.py\u001b[0m in \u001b[0;36m_call_flat\u001b[1;34m(self, args, captured_inputs, cancellation_manager)\u001b[0m\n\u001b[0;32m   1916\u001b[0m         and executing_eagerly):\n\u001b[0;32m   1917\u001b[0m       \u001b[1;31m# No tape is watching; skip to running the function.\u001b[0m\u001b[1;33m\u001b[0m\u001b[1;33m\u001b[0m\u001b[1;33m\u001b[0m\u001b[0m\n\u001b[1;32m-> 1918\u001b[1;33m       return self._build_call_outputs(self._inference_function.call(\n\u001b[0m\u001b[0;32m   1919\u001b[0m           ctx, args, cancellation_manager=cancellation_manager))\n\u001b[0;32m   1920\u001b[0m     forward_backward = self._select_forward_and_backward_functions(\n",
      "\u001b[1;32m~\\AppData\\Roaming\\Python\\Python38\\site-packages\\tensorflow\\python\\eager\\function.py\u001b[0m in \u001b[0;36mcall\u001b[1;34m(self, ctx, args, cancellation_manager)\u001b[0m\n\u001b[0;32m    553\u001b[0m       \u001b[1;32mwith\u001b[0m \u001b[0m_InterpolateFunctionError\u001b[0m\u001b[1;33m(\u001b[0m\u001b[0mself\u001b[0m\u001b[1;33m)\u001b[0m\u001b[1;33m:\u001b[0m\u001b[1;33m\u001b[0m\u001b[1;33m\u001b[0m\u001b[0m\n\u001b[0;32m    554\u001b[0m         \u001b[1;32mif\u001b[0m \u001b[0mcancellation_manager\u001b[0m \u001b[1;32mis\u001b[0m \u001b[1;32mNone\u001b[0m\u001b[1;33m:\u001b[0m\u001b[1;33m\u001b[0m\u001b[1;33m\u001b[0m\u001b[0m\n\u001b[1;32m--> 555\u001b[1;33m           outputs = execute.execute(\n\u001b[0m\u001b[0;32m    556\u001b[0m               \u001b[0mstr\u001b[0m\u001b[1;33m(\u001b[0m\u001b[0mself\u001b[0m\u001b[1;33m.\u001b[0m\u001b[0msignature\u001b[0m\u001b[1;33m.\u001b[0m\u001b[0mname\u001b[0m\u001b[1;33m)\u001b[0m\u001b[1;33m,\u001b[0m\u001b[1;33m\u001b[0m\u001b[1;33m\u001b[0m\u001b[0m\n\u001b[0;32m    557\u001b[0m               \u001b[0mnum_outputs\u001b[0m\u001b[1;33m=\u001b[0m\u001b[0mself\u001b[0m\u001b[1;33m.\u001b[0m\u001b[0m_num_outputs\u001b[0m\u001b[1;33m,\u001b[0m\u001b[1;33m\u001b[0m\u001b[1;33m\u001b[0m\u001b[0m\n",
      "\u001b[1;32m~\\AppData\\Roaming\\Python\\Python38\\site-packages\\tensorflow\\python\\eager\\execute.py\u001b[0m in \u001b[0;36mquick_execute\u001b[1;34m(op_name, num_outputs, inputs, attrs, ctx, name)\u001b[0m\n\u001b[0;32m     57\u001b[0m   \u001b[1;32mtry\u001b[0m\u001b[1;33m:\u001b[0m\u001b[1;33m\u001b[0m\u001b[1;33m\u001b[0m\u001b[0m\n\u001b[0;32m     58\u001b[0m     \u001b[0mctx\u001b[0m\u001b[1;33m.\u001b[0m\u001b[0mensure_initialized\u001b[0m\u001b[1;33m(\u001b[0m\u001b[1;33m)\u001b[0m\u001b[1;33m\u001b[0m\u001b[1;33m\u001b[0m\u001b[0m\n\u001b[1;32m---> 59\u001b[1;33m     tensors = pywrap_tfe.TFE_Py_Execute(ctx._handle, device_name, op_name,\n\u001b[0m\u001b[0;32m     60\u001b[0m                                         inputs, attrs, num_outputs)\n\u001b[0;32m     61\u001b[0m   \u001b[1;32mexcept\u001b[0m \u001b[0mcore\u001b[0m\u001b[1;33m.\u001b[0m\u001b[0m_NotOkStatusException\u001b[0m \u001b[1;32mas\u001b[0m \u001b[0me\u001b[0m\u001b[1;33m:\u001b[0m\u001b[1;33m\u001b[0m\u001b[1;33m\u001b[0m\u001b[0m\n",
      "\u001b[1;31mInvalidArgumentError\u001b[0m:  logits and labels must have the same first dimension, got logits shape [3952,40] and labels shape [158080]\n\t [[node sparse_categorical_crossentropy/SparseSoftmaxCrossEntropyWithLogits/SparseSoftmaxCrossEntropyWithLogits (defined at <ipython-input-202-fc3c5f83dba9>:1) ]] [Op:__inference_train_function_72335]\n\nFunction call stack:\ntrain_function\n"
     ]
    }
   ],
   "source": [
    "model_var.fit(X_var_train, y_var_train ,batch_size = 16, epochs=10, validation_data = (X_var_test, y_var_test))"
   ]
  },
  {
   "cell_type": "markdown",
   "metadata": {
    "id": "s0plOleopAFc"
   },
   "source": [
    "# Test"
   ]
  },
  {
   "cell_type": "code",
   "execution_count": 102,
   "metadata": {},
   "outputs": [
    {
     "name": "stdout",
     "output_type": "stream",
     "text": [
      "Predicted BDD   1  :\n",
      "\n",
      "\n",
      "Feature:Checkthe<oov>#ChecktheresulttoTrueScenario:Scenario:<oov><oov><oov><oov><oov><oov><oov>iicallthetheshouldbe#ChecktheresulttoFalse<oov><oov><oov><oov><oov><oov><oov>icallthethetheshouldbe \n",
      "\n",
      "\n",
      "Expected BDD  1  :\n",
      "\n",
      "\n",
      "Feature: Check the <oov>     # Check the result to True   Scenario: <oov>     Given <oov> = <oov> and <oov> = <oov>     When i call <oov>     Then the result should be True    # Check the result to False   Scenario: <oov>     Given <oov> = <oov> and <oov> = <oov>     When i call <oov>     Then the result should be False  \n",
      "\n",
      "\n",
      "Predicted BDD   2  :\n",
      "\n",
      "\n",
      "Feature:Checkthe<oov>#ChecktheresulttoTrueScenario:Scenario:<oov><oov><oov><oov><oov><oov><oov>iicallthetheshouldbe#ChecktheresulttoFalse<oov><oov><oov><oov><oov><oov><oov>icallthethetheshouldbe \n",
      "\n",
      "\n",
      "Expected BDD  2  :\n",
      "\n",
      "\n",
      "Feature: Check the <oov>     # Check the result to True   Scenario: <oov>     Given <oov> = <oov> and <oov> = <oov>     When i call <oov>     Then the result should be True    # Check the result to False   Scenario: <oov>     Given <oov> = <oov> and <oov> = <oov>     When i call <oov>     Then the result should be False  \n",
      "\n",
      "\n",
      "Predicted BDD   3  :\n",
      "\n",
      "\n",
      "Feature:Checkthe<oov>#ChecktheresulttoTrueScenario:<oov>Given<oov><oov><oov><oov><oov><oov>iicallthetheshouldshould#CheckCheckresultresultFalse<oov><oov><oov><oov><oov><oov><oov>icallthethetheshouldbe \n",
      "\n",
      "\n",
      "Expected BDD  3  :\n",
      "\n",
      "\n",
      "Feature: Check the <oov>     # Check the result to True   Scenario: <oov>     Given <oov> = <oov> and <oov> = <oov>     When i call <oov>     Then the result should be True    # Check the result to False   Scenario: <oov>     Given <oov> = <oov> and <oov> = <oov>     When i call <oov>     Then the result should be False  \n",
      "\n",
      "\n",
      "Predicted BDD   4  :\n",
      "\n",
      "\n",
      "Feature:Checkthe<oov>#ChecktheresulttoTrueScenario:Scenario:<oov><oov><oov><oov><oov><oov><oov>iicallthetheshouldbe#ChecktheresulttoFalse<oov><oov><oov><oov><oov><oov><oov>icallthethetheshouldbe \n",
      "\n",
      "\n",
      "Expected BDD  4  :\n",
      "\n",
      "\n",
      "Feature: Check the <oov>     # Check the result to True   Scenario: <oov>     Given <oov> = <oov> and <oov> = <oov>     When i call <oov>     Then the result should be True    # Check the result to False   Scenario: <oov>     Given <oov> = <oov> and <oov> = <oov>     When i call <oov>     Then the result should be False  \n",
      "\n",
      "\n",
      "Predicted BDD   5  :\n",
      "\n",
      "\n",
      "Feature:Checkthe<oov>#ChecktheresulttoTrueScenario:Scenario:<oov><oov><oov><oov><oov><oov><oov>iicallthetheshouldbe#ChecktheresulttoFalse<oov><oov><oov><oov><oov><oov><oov>icallthethetheshouldbe \n",
      "\n",
      "\n",
      "Expected BDD  5  :\n",
      "\n",
      "\n",
      "Feature: Check the <oov>     # Check the result to True   Scenario: <oov>     Given <oov> = <oov> and <oov> = <oov>     When i call <oov>     Then the result should be True    # Check the result to False   Scenario: <oov>     Given <oov> = <oov> and <oov> = <oov>     When i call <oov>     Then the result should be False  \n",
      "\n",
      "\n",
      "Predicted BDD   6  :\n",
      "\n",
      "\n",
      "Feature:Checkthe<oov>#ChecktheresulttoTrueScenario:<oov>Given<oov><oov><oov><oov><oov><oov>iicallthetheshouldshould#CheckCheckresultresultFalse<oov><oov><oov><oov><oov><oov><oov>icallthethetheshouldbe \n",
      "\n",
      "\n",
      "Expected BDD  6  :\n",
      "\n",
      "\n",
      "Feature: Check the <oov>     # Check the result to True   Scenario: <oov>     Given <oov> = <oov> and <oov> = <oov>     When i call <oov>     Then the result should be True    # Check the result to False   Scenario: <oov>     Given <oov> = <oov> and <oov> = <oov>     When i call <oov>     Then the result should be False  \n",
      "\n",
      "\n",
      "Predicted BDD   7  :\n",
      "\n",
      "\n",
      "Feature:Checkthe<oov>#ChecktheresulttoTrueScenario:<oov>Given<oov><oov><oov><oov><oov><oov>iicallthetheshouldshould#CheckCheckresultresultto<oov><oov><oov><oov><oov><oov><oov>icallthethetheshouldbe \n",
      "\n",
      "\n",
      "Expected BDD  7  :\n",
      "\n",
      "\n",
      "Feature: Check the <oov>     # Check the result to True   Scenario: <oov>     Given <oov> = <oov> and <oov> = <oov>     When i call <oov>     Then the result should be True    # Check the result to False   Scenario: <oov>     Given <oov> = <oov> and <oov> = <oov>     When i call <oov>     Then the result should be False  \n",
      "\n",
      "\n",
      "Predicted BDD   8  :\n",
      "\n",
      "\n",
      "Feature:Checkthe<oov>#ChecktheresulttoTrueScenario:<oov>Given<oov><oov><oov><oov><oov><oov>iicallthetheshouldshould#CheckCheckresultresultto<oov><oov><oov><oov><oov><oov><oov>icallthethetheshouldbe \n",
      "\n",
      "\n",
      "Expected BDD  8  :\n",
      "\n",
      "\n",
      "Feature: Check the <oov>     # Check the result to True   Scenario: <oov>     Given <oov> = <oov> and <oov> = <oov>     When i call <oov>     Then the result should be True    # Check the result to False   Scenario: <oov>     Given <oov> = <oov> and <oov> = <oov>     When i call <oov>     Then the result should be False  \n",
      "\n",
      "\n",
      "Predicted BDD   9  :\n",
      "\n",
      "\n",
      "Feature:Checkthe<oov>#ChecktheresulttoTrueScenario:<oov>Given<oov><oov><oov><oov><oov><oov>iicallthetheshouldshould#CheckCheckresultresultFalse<oov><oov><oov><oov><oov><oov><oov>icallthethetheshouldbe \n",
      "\n",
      "\n",
      "Expected BDD  9  :\n",
      "\n",
      "\n",
      "Feature: Check the <oov>     # Check the result to True   Scenario: <oov>     Given <oov> = <oov> and <oov> = <oov>     When i call <oov>     Then the result should be True    # Check the result to False   Scenario: <oov>     Given <oov> = <oov> and <oov> = <oov>     When i call <oov>     Then the result should be False  \n",
      "\n",
      "\n",
      "Predicted BDD   10  :\n",
      "\n",
      "\n",
      "Feature:Checkthe<oov>#ChecktheresulttoTrueScenario:<oov>Given<oov><oov><oov><oov><oov><oov>iicallthetheshouldshould#CheckCheckresultresultto<oov><oov><oov><oov><oov><oov><oov>icallthethetheshouldbe \n",
      "\n",
      "\n",
      "Expected BDD  10  :\n",
      "\n",
      "\n",
      "Feature: Check the <oov>     # Check the result to True   Scenario: <oov>     Given <oov> = <oov> and <oov> = <oov>     When i call <oov>     Then the result should be True    # Check the result to False   Scenario: <oov>     Given <oov> = <oov> and <oov> = <oov>     When i call <oov>     Then the result should be False  \n",
      "\n",
      "\n"
     ]
    }
   ],
   "source": [
    "for n in range (10):\n",
    "    test_input = X_test[n]\n",
    "    test_input = np.expand_dims(test_input,axis=0)\n",
    "    prediction = model.predict(test_input)[0]\n",
    "\n",
    "    #print(prediction.shape)\n",
    "    sequence_prediction = []\n",
    "    for pred in (prediction):\n",
    "        sequence_prediction.append(np.argmax(pred))\n",
    "    decoded_sequence = []\n",
    "    for word in sequence_prediction:\n",
    "        decoded_sequence.append(ind_to_word_bdd[word])\n",
    "    decoded_sequence.append(' ')\n",
    "\n",
    "    decoded_sequence = ''.join(decoded_sequence)\n",
    "    print('Predicted BDD  ',n+1,' :')\n",
    "    print('\\n')\n",
    "    print(decoded_sequence)\n",
    "    print('\\n')\n",
    "    print('Expected BDD ',n+1,' :')\n",
    "    print('\\n')\n",
    "    print(decode_bdd(y_test[n]))\n",
    "    print('\\n')"
   ]
  },
  {
   "cell_type": "code",
   "execution_count": 103,
   "metadata": {},
   "outputs": [
    {
     "data": {
      "text/plain": [
       "array([ 0,  1,  2,  1,  3,  4,  0,  5,  3,  4,  0,  1,  3,  6,  0,  5,  3,\n",
       "        6,  0,  1,  7, 26,  5,  7, 26,  1,  8,  1,  9, 10,  5,  9, 10,  1,\n",
       "        7, 26,  5,  7, 26,  5,  8,  1,  8,  1,  9, 10,  5,  9, 10,  1,  7,\n",
       "       26,  5,  7, 26,  5,  8,  1,  9, 11,  5,  9, 11,  1, 12,  1, 13,  1,\n",
       "       14,  1, 15,  1,  9, 10,  5,  9, 10,  1,  7, 26,  5,  7, 26,  1, 25,\n",
       "        1, 16, 26,  5, 16, 26,  5, 25,  5, 15,  5, 14,  5, 13,  1, 13,  1,\n",
       "       14,  1, 15,  1,  9, 10,  5,  9, 10,  1,  7, 26,  5,  7, 26,  1, 25,\n",
       "        1, 16, 26,  5, 16, 26,  5, 25,  5, 15,  5, 14,  5, 13,  1, 13,  1,\n",
       "       14,  1, 15,  1,  9, 10,  5,  9, 10,  1,  7, 17,  5,  7, 17,  1, 18,\n",
       "        1, 18,  1, 19,  1,  7, 26,  5,  7, 26,  5, 19,  1, 19,  1,  7, 26,\n",
       "        5,  7, 26,  5, 19,  5, 18,  1, 19,  1,  7, 26,  5,  7, 26,  5, 19,\n",
       "        5, 18,  5, 15,  5, 14,  5, 13,  1, 20,  1, 18,  1, 19,  1,  7, 17,\n",
       "        5,  7, 17,  5, 19,  1, 19,  1,  7, 26,  5,  7, 26,  5, 19,  5, 18,\n",
       "        1, 12,  1, 21,  1, 22, 23,  5, 22, 23,  5, 21,  5, 12,  1, 12,  1,\n",
       "       21,  1, 22, 24,  5, 22, 24,  5, 21,  5, 12,  5, 20,  5, 12,  5,  2])"
      ]
     },
     "execution_count": 103,
     "metadata": {},
     "output_type": "execute_result"
    }
   ],
   "source": [
    "test_input = X_test[0]\n",
    "test_input"
   ]
  },
  {
   "cell_type": "code",
   "execution_count": 104,
   "metadata": {},
   "outputs": [],
   "source": [
    "test_input = np.expand_dims(test_input,axis=0)\n",
    "prediction = model.predict(test_input)[0]"
   ]
  },
  {
   "cell_type": "code",
   "execution_count": 105,
   "metadata": {},
   "outputs": [
    {
     "data": {
      "text/plain": [
       "array([0.55079305, 0.20506339, 0.05037852, 0.02406569, 0.00592632,\n",
       "       0.00389126, 0.00325892, 0.01044804, 0.00827105, 0.00495665,\n",
       "       0.00685369, 0.00671526, 0.01215183, 0.00979984, 0.0169343 ,\n",
       "       0.00976743, 0.00803564, 0.01289711, 0.01399474, 0.03579716],\n",
       "      dtype=float32)"
      ]
     },
     "execution_count": 105,
     "metadata": {},
     "output_type": "execute_result"
    }
   ],
   "source": [
    "prediction[0]"
   ]
  },
  {
   "cell_type": "code",
   "execution_count": null,
   "metadata": {},
   "outputs": [],
   "source": []
  }
 ],
 "metadata": {
  "accelerator": "GPU",
  "colab": {
   "name": "V1_ia4utgs.ipynb",
   "provenance": []
  },
  "kernelspec": {
   "display_name": "Python 3",
   "language": "python",
   "name": "python3"
  },
  "language_info": {
   "codemirror_mode": {
    "name": "ipython",
    "version": 3
   },
   "file_extension": ".py",
   "mimetype": "text/x-python",
   "name": "python",
   "nbconvert_exporter": "python",
   "pygments_lexer": "ipython3",
   "version": "3.8.5"
  }
 },
 "nbformat": 4,
 "nbformat_minor": 1
}
